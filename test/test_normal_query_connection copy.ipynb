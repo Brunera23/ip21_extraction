{
 "cells": [
  {
   "cell_type": "code",
   "execution_count": null,
   "id": "15dfd5ed",
   "metadata": {},
   "outputs": [
    {
     "name": "stdout",
     "output_type": "stream",
     "text": [
      "DRIVER={AspenTech SQLplus};HOST=BEJEMMS01-SV01;PORT=10014;UID=EUA\\SILV5802;PWD=Clara@230525;CHARINT=N;CHARFLOAT=N;CHARTIME=N;ansi=True\n"
     ]
    },
    {
     "name": "stderr",
     "output_type": "stream",
     "text": [
      "C:\\Users\\silv5802\\AppData\\Local\\Temp\\ipykernel_21384\\2998201883.py:25: UserWarning: pandas only supports SQLAlchemy connectable (engine/connection) or database string URI or sqlite3 DBAPI2 connection. Other DBAPI2 objects are not tested. Please consider using SQLAlchemy.\n",
      "  data = pd.read_sql_query(my_sql_test,conn)\n"
     ]
    },
    {
     "data": {
      "text/html": [
       "<div>\n",
       "<style scoped>\n",
       "    .dataframe tbody tr th:only-of-type {\n",
       "        vertical-align: middle;\n",
       "    }\n",
       "\n",
       "    .dataframe tbody tr th {\n",
       "        vertical-align: top;\n",
       "    }\n",
       "\n",
       "    .dataframe thead th {\n",
       "        text-align: right;\n",
       "    }\n",
       "</style>\n",
       "<table border=\"1\" class=\"dataframe\">\n",
       "  <thead>\n",
       "    <tr style=\"text-align: right;\">\n",
       "      <th></th>\n",
       "      <th>IP_GRAPH_MAXIMUM</th>\n",
       "    </tr>\n",
       "  </thead>\n",
       "  <tbody>\n",
       "    <tr>\n",
       "      <th>0</th>\n",
       "      <td>100</td>\n",
       "    </tr>\n",
       "  </tbody>\n",
       "</table>\n",
       "</div>"
      ],
      "text/plain": [
       "   IP_GRAPH_MAXIMUM\n",
       "0               100"
      ]
     },
     "execution_count": 8,
     "metadata": {},
     "output_type": "execute_result"
    }
   ],
   "source": [
    "import pyodbc\n",
    "import pandas as pd\n",
    "\n",
    "def get_connection(host,user,pwd):\n",
    "    CONN_STR = (\n",
    "    \"DRIVER={AspenTech SQLplus};\"\n",
    "    f\"HOST={host};\"\n",
    "    \"PORT=10014;\"\n",
    "    f\"UID=EUA\\\\{user};\"\n",
    "    f\"PWD={pwd};\"\n",
    "    \"CHARINT=N;\"\n",
    "    \"CHARFLOAT=N;\"\n",
    "    \"CHARTIME=N;\"\n",
    "    \"ansi=True\"\n",
    ")\n",
    "    print(CONN_STR)\n",
    "    conn = pyodbc.connect(CONN_STR)\n",
    "        \n",
    "    return conn\n",
    "    \n",
    "    \n",
    "    \n",
    "conn = get_connection(host='BEJEMMS01-SV01',user='SILV5802',pwd='Clara@230525')\n",
    "my_sql_test = \"SELECT IP_GRAPH_MAXIMUM FROM IP_DDef WHERE name = 'FICHE1710A/MODE'\"\n",
    "\n",
    "data = pd.read_sql_query(my_sql_test,conn)\n",
    "data"
   ]
  }
 ],
 "metadata": {
  "kernelspec": {
   "display_name": "powerbienv",
   "language": "python",
   "name": "python3"
  },
  "language_info": {
   "codemirror_mode": {
    "name": "ipython",
    "version": 3
   },
   "file_extension": ".py",
   "mimetype": "text/x-python",
   "name": "python",
   "nbconvert_exporter": "python",
   "pygments_lexer": "ipython3",
   "version": "3.11.11"
  }
 },
 "nbformat": 4,
 "nbformat_minor": 5
}
