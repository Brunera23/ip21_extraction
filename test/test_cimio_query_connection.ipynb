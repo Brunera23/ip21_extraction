{
 "cells": [
  {
   "cell_type": "code",
   "execution_count": 9,
   "id": "15dfd5ed",
   "metadata": {},
   "outputs": [
    {
     "name": "stdout",
     "output_type": "stream",
     "text": [
      "DRIVER={AspenTech SQLplus};HOST=BEJEMMS01-SV01;PORT=10014;UID=EUA\\SILV5802;PWD=Clara@230525;CHARINT=N;CHARFLOAT=N;CHARTIME=N;ansi=True\n"
     ]
    },
    {
     "name": "stderr",
     "output_type": "stream",
     "text": [
      "C:\\Users\\silv5802\\AppData\\Local\\Temp\\ipykernel_24980\\3396400246.py:27: UserWarning: pandas only supports SQLAlchemy connectable (engine/connection) or database string URI or sqlite3 DBAPI2 connection. Other DBAPI2 objects are not tested. Please consider using SQLAlchemy.\n",
      "  data = pd.read_sql_query(my_sql_test,conn)\n"
     ]
    },
    {
     "name": "stdout",
     "output_type": "stream",
     "text": [
      "DRIVER={AspenTech SQLplus};HOST=BEJEMMS01-SV01;PORT=10014;UID=EUA\\SILV5802;PWD=Clara@230525;CHARINT=N;CHARFLOAT=N;CHARTIME=N;ansi=True\n"
     ]
    },
    {
     "name": "stderr",
     "output_type": "stream",
     "text": [
      "C:\\Users\\silv5802\\AppData\\Local\\Temp\\ipykernel_24980\\3396400246.py:27: UserWarning: pandas only supports SQLAlchemy connectable (engine/connection) or database string URI or sqlite3 DBAPI2 connection. Other DBAPI2 objects are not tested. Please consider using SQLAlchemy.\n",
      "  data = pd.read_sql_query(my_sql_test,conn)\n"
     ]
    },
    {
     "name": "stdout",
     "output_type": "stream",
     "text": [
      "DRIVER={AspenTech SQLplus};HOST=BEJEMMS01-SV01;PORT=10014;UID=EUA\\SILV5802;PWD=Clara@230525;CHARINT=N;CHARFLOAT=N;CHARTIME=N;ansi=True\n"
     ]
    },
    {
     "name": "stderr",
     "output_type": "stream",
     "text": [
      "C:\\Users\\silv5802\\AppData\\Local\\Temp\\ipykernel_24980\\3396400246.py:27: UserWarning: pandas only supports SQLAlchemy connectable (engine/connection) or database string URI or sqlite3 DBAPI2 connection. Other DBAPI2 objects are not tested. Please consider using SQLAlchemy.\n",
      "  data = pd.read_sql_query(my_sql_test,conn)\n"
     ]
    },
    {
     "data": {
      "text/html": [
       "<div>\n",
       "<style scoped>\n",
       "    .dataframe tbody tr th:only-of-type {\n",
       "        vertical-align: middle;\n",
       "    }\n",
       "\n",
       "    .dataframe tbody tr th {\n",
       "        vertical-align: top;\n",
       "    }\n",
       "\n",
       "    .dataframe thead th {\n",
       "        text-align: right;\n",
       "    }\n",
       "</style>\n",
       "<table border=\"1\" class=\"dataframe\">\n",
       "  <thead>\n",
       "    <tr style=\"text-align: right;\">\n",
       "      <th></th>\n",
       "      <th>IO_#TAGS</th>\n",
       "      <th>NAME</th>\n",
       "      <th>DESCRIPTION</th>\n",
       "      <th>IO_MESSAGE_SW</th>\n",
       "      <th>IO_ACTIVATE?</th>\n",
       "      <th>IO_ACTIVATION_COS</th>\n",
       "      <th>IO_RECORD_PROCESSING</th>\n",
       "      <th>IO_MAIN_TASK</th>\n",
       "      <th>IO_DEVICE_UNIT</th>\n",
       "      <th>IO_GROUP</th>\n",
       "      <th>IO_PRIORITY</th>\n",
       "      <th>IO_DEFAULT_DATA_TYPE</th>\n",
       "      <th>IO_ASYNC?</th>\n",
       "      <th>IO_TIMEOUT_VALUE</th>\n",
       "      <th>IO_FREQUENCY</th>\n",
       "      <th>IO_LAST_UPDATE</th>\n",
       "      <th>IO_LAST_STATUS</th>\n",
       "      <th>IO_LAST_STATUS_DESC</th>\n",
       "      <th>IO_GROUP_PROCESSING</th>\n",
       "      <th>IO_GROUP_PERMISSION</th>\n",
       "      <th>IO_REQUEST_CHANGES</th>\n",
       "      <th>IO_#_BAD_TAGS</th>\n",
       "      <th>IO_#_GOOD_TAGS</th>\n",
       "      <th>IO_#_SCAN_OFF_TAGS</th>\n",
       "      <th>IO_#_SUSPECT_TAGS</th>\n",
       "      <th>SOURCE_TABLE</th>\n",
       "    </tr>\n",
       "  </thead>\n",
       "  <tbody>\n",
       "  </tbody>\n",
       "</table>\n",
       "</div>"
      ],
      "text/plain": [
       "Empty DataFrame\n",
       "Columns: [IO_#TAGS, NAME, DESCRIPTION, IO_MESSAGE_SW, IO_ACTIVATE?, IO_ACTIVATION_COS, IO_RECORD_PROCESSING, IO_MAIN_TASK, IO_DEVICE_UNIT, IO_GROUP, IO_PRIORITY, IO_DEFAULT_DATA_TYPE, IO_ASYNC?, IO_TIMEOUT_VALUE, IO_FREQUENCY, IO_LAST_UPDATE, IO_LAST_STATUS, IO_LAST_STATUS_DESC, IO_GROUP_PROCESSING, IO_GROUP_PERMISSION, IO_REQUEST_CHANGES, IO_#_BAD_TAGS, IO_#_GOOD_TAGS, IO_#_SCAN_OFF_TAGS, IO_#_SUSPECT_TAGS, SOURCE_TABLE]\n",
       "Index: []"
      ]
     },
     "execution_count": 9,
     "metadata": {},
     "output_type": "execute_result"
    }
   ],
   "source": [
    "import pyodbc\n",
    "import pandas as pd\n",
    "\n",
    "def get_connection(host,user,pwd):\n",
    "    CONN_STR = (\n",
    "    \"DRIVER={AspenTech SQLplus};\"\n",
    "    f\"HOST={host};\"\n",
    "    \"PORT=10014;\"\n",
    "    f\"UID=EUA\\\\{user};\"\n",
    "    f\"PWD={pwd};\"\n",
    "    \"CHARINT=N;\"\n",
    "    \"CHARFLOAT=N;\"\n",
    "    \"CHARTIME=N;\"\n",
    "    \"ansi=True\"\n",
    ")\n",
    "    print(CONN_STR)\n",
    "    conn = pyodbc.connect(CONN_STR)\n",
    "        \n",
    "    return conn\n",
    "    \n",
    "tables = [\"IoGetDef\", \"IoLongTagGetDef\", \"IoLLTagGetDef\"]   # \n",
    "pd.set_option('display.max_columns',None)\n",
    "dfs = []\n",
    "for table in tables:\n",
    "    conn = get_connection(host='BEJEMMS01-SV01',user='SILV5802',pwd='Clara@230525')\n",
    "    my_sql_test = f\"SELECT * FROM {table} WHERE 1=0\"\n",
    "    data = pd.read_sql_query(my_sql_test,conn)\n",
    "    data[\"SOURCE_TABLE\"] = table\n",
    "    dfs.append(data)\n",
    "\n",
    "    \n",
    "\n",
    "\n",
    "data"
   ]
  },
  {
   "cell_type": "code",
   "execution_count": 8,
   "id": "ac646896",
   "metadata": {},
   "outputs": [
    {
     "data": {
      "text/plain": [
       "[Empty DataFrame\n",
       " Columns: [IO_#TAGS, NAME, DESCRIPTION, IO_MESSAGE_SW, IO_ACTIVATE?, IO_ACTIVATION_COS, IO_RECORD_PROCESSING, IO_MAIN_TASK, IO_DEVICE_UNIT, IO_GROUP, IO_PRIORITY, IO_DEFAULT_DATA_TYPE, IO_ASYNC?, IO_TIMEOUT_VALUE, IO_FREQUENCY, IO_LAST_UPDATE, IO_LAST_STATUS, IO_LAST_STATUS_DESC, IO_GROUP_PROCESSING, IO_GROUP_PERMISSION, IO_REQUEST_CHANGES, IO_#_BAD_TAGS, IO_#_GOOD_TAGS, IO_#_SCAN_OFF_TAGS, IO_#_SUSPECT_TAGS, table name]\n",
       " Index: [],\n",
       " Empty DataFrame\n",
       " Columns: [IO_#TAGS, NAME, DESCRIPTION, IO_MESSAGE_SW, IO_ACTIVATE?, IO_ACTIVATION_COS, IO_RECORD_PROCESSING, IO_MAIN_TASK, IO_DEVICE_UNIT, IO_GROUP, IO_PRIORITY, IO_DEFAULT_DATA_TYPE, IO_ASYNC?, IO_TIMEOUT_VALUE, IO_FREQUENCY, IO_LAST_UPDATE, IO_LAST_STATUS, IO_LAST_STATUS_DESC, IO_GROUP_PROCESSING, IO_GROUP_PERMISSION, IO_REQUEST_CHANGES, IO_HIST_RECOVERY, IO_HIST_TIMEOUT, IO_HIST_GAP_INTERVAL, IO_HIST_LAST_UPDATE, IO_HIST_LAST_STATUS, IO_HIST_STATUS_DESC, IO_HIST_PRIORITY, IO_#_BAD_TAGS, IO_#_GOOD_TAGS, IO_#_SCAN_OFF_TAGS, IO_#_SUSPECT_TAGS, table name]\n",
       " Index: [],\n",
       " Empty DataFrame\n",
       " Columns: [IO_#TAGS, NAME, DESCRIPTION, IO_MESSAGE_SW, IO_ACTIVATE?, IO_ACTIVATION_COS, IO_RECORD_PROCESSING, IO_MAIN_TASK, IO_DEVICE_UNIT, IO_GROUP, IO_PRIORITY, IO_DEFAULT_DATA_TYPE, IO_ASYNC?, IO_TIMEOUT_VALUE, IO_FREQUENCY, IO_LAST_UPDATE, IO_LAST_STATUS, IO_LAST_STATUS_DESC, IO_GROUP_PROCESSING, IO_GROUP_PERMISSION, IO_REQUEST_CHANGES, IO_#_BAD_TAGS, IO_#_GOOD_TAGS, IO_#_SCAN_OFF_TAGS, IO_#_SUSPECT_TAGS, table name]\n",
       " Index: []]"
      ]
     },
     "execution_count": 8,
     "metadata": {},
     "output_type": "execute_result"
    }
   ],
   "source": [
    "dfs"
   ]
  }
 ],
 "metadata": {
  "kernelspec": {
   "display_name": "powerbienv",
   "language": "python",
   "name": "python3"
  },
  "language_info": {
   "codemirror_mode": {
    "name": "ipython",
    "version": 3
   },
   "file_extension": ".py",
   "mimetype": "text/x-python",
   "name": "python",
   "nbconvert_exporter": "python",
   "pygments_lexer": "ipython3",
   "version": "3.11.11"
  }
 },
 "nbformat": 4,
 "nbformat_minor": 5
}
