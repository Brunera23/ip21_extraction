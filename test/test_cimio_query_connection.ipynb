{
 "cells": [
  {
   "cell_type": "code",
   "execution_count": 9,
   "id": "15dfd5ed",
   "metadata": {},
   "outputs": [
    {
     "name": "stdout",
     "output_type": "stream",
     "text": [
      "DRIVER={AspenTech SQLplus};HOST=BEJEMMS01-SV01;PORT=10014;UID=EUA\\SILV5802;PWD=Clara@230525;CHARINT=N;CHARFLOAT=N;CHARTIME=N;ansi=True\n"
     ]
    },
    {
     "name": "stderr",
     "output_type": "stream",
     "text": [
      "C:\\Users\\silv5802\\AppData\\Local\\Temp\\ipykernel_24980\\3396400246.py:27: UserWarning: pandas only supports SQLAlchemy connectable (engine/connection) or database string URI or sqlite3 DBAPI2 connection. Other DBAPI2 objects are not tested. Please consider using SQLAlchemy.\n",
      "  data = pd.read_sql_query(my_sql_test,conn)\n"
     ]
    },
    {
     "name": "stdout",
     "output_type": "stream",
     "text": [
      "DRIVER={AspenTech SQLplus};HOST=BEJEMMS01-SV01;PORT=10014;UID=EUA\\SILV5802;PWD=Clara@230525;CHARINT=N;CHARFLOAT=N;CHARTIME=N;ansi=True\n"
     ]
    },
    {
     "name": "stderr",
     "output_type": "stream",
     "text": [
      "C:\\Users\\silv5802\\AppData\\Local\\Temp\\ipykernel_24980\\3396400246.py:27: UserWarning: pandas only supports SQLAlchemy connectable (engine/connection) or database string URI or sqlite3 DBAPI2 connection. Other DBAPI2 objects are not tested. Please consider using SQLAlchemy.\n",
      "  data = pd.read_sql_query(my_sql_test,conn)\n"
     ]
    },
    {
     "name": "stdout",
     "output_type": "stream",
     "text": [
      "DRIVER={AspenTech SQLplus};HOST=BEJEMMS01-SV01;PORT=10014;UID=EUA\\SILV5802;PWD=Clara@230525;CHARINT=N;CHARFLOAT=N;CHARTIME=N;ansi=True\n"
     ]
    },
    {
     "name": "stderr",
     "output_type": "stream",
     "text": [
      "C:\\Users\\silv5802\\AppData\\Local\\Temp\\ipykernel_24980\\3396400246.py:27: UserWarning: pandas only supports SQLAlchemy connectable (engine/connection) or database string URI or sqlite3 DBAPI2 connection. Other DBAPI2 objects are not tested. Please consider using SQLAlchemy.\n",
      "  data = pd.read_sql_query(my_sql_test,conn)\n"
     ]
    },
    {
     "data": {
      "text/html": [
       "<div>\n",
       "<style scoped>\n",
       "    .dataframe tbody tr th:only-of-type {\n",
       "        vertical-align: middle;\n",
       "    }\n",
       "\n",
       "    .dataframe tbody tr th {\n",
       "        vertical-align: top;\n",
       "    }\n",
       "\n",
       "    .dataframe thead th {\n",
       "        text-align: right;\n",
       "    }\n",
       "</style>\n",
       "<table border=\"1\" class=\"dataframe\">\n",
       "  <thead>\n",
       "    <tr style=\"text-align: right;\">\n",
       "      <th></th>\n",
       "      <th>IO_#TAGS</th>\n",
       "      <th>NAME</th>\n",
       "      <th>DESCRIPTION</th>\n",
       "      <th>IO_MESSAGE_SW</th>\n",
       "      <th>IO_ACTIVATE?</th>\n",
       "      <th>IO_ACTIVATION_COS</th>\n",
       "      <th>IO_RECORD_PROCESSING</th>\n",
       "      <th>IO_MAIN_TASK</th>\n",
       "      <th>IO_DEVICE_UNIT</th>\n",
       "      <th>IO_GROUP</th>\n",
       "      <th>IO_PRIORITY</th>\n",
       "      <th>IO_DEFAULT_DATA_TYPE</th>\n",
       "      <th>IO_ASYNC?</th>\n",
       "      <th>IO_TIMEOUT_VALUE</th>\n",
       "      <th>IO_FREQUENCY</th>\n",
       "      <th>IO_LAST_UPDATE</th>\n",
       "      <th>IO_LAST_STATUS</th>\n",
       "      <th>IO_LAST_STATUS_DESC</th>\n",
       "      <th>IO_GROUP_PROCESSING</th>\n",
       "      <th>IO_GROUP_PERMISSION</th>\n",
       "      <th>IO_REQUEST_CHANGES</th>\n",
       "      <th>IO_#_BAD_TAGS</th>\n",
       "      <th>IO_#_GOOD_TAGS</th>\n",
       "      <th>IO_#_SCAN_OFF_TAGS</th>\n",
       "      <th>IO_#_SUSPECT_TAGS</th>\n",
       "      <th>SOURCE_TABLE</th>\n",
       "    </tr>\n",
       "  </thead>\n",
       "  <tbody>\n",
       "  </tbody>\n",
       "</table>\n",
       "</div>"
      ],
      "text/plain": [
       "Empty DataFrame\n",
       "Columns: [IO_#TAGS, NAME, DESCRIPTION, IO_MESSAGE_SW, IO_ACTIVATE?, IO_ACTIVATION_COS, IO_RECORD_PROCESSING, IO_MAIN_TASK, IO_DEVICE_UNIT, IO_GROUP, IO_PRIORITY, IO_DEFAULT_DATA_TYPE, IO_ASYNC?, IO_TIMEOUT_VALUE, IO_FREQUENCY, IO_LAST_UPDATE, IO_LAST_STATUS, IO_LAST_STATUS_DESC, IO_GROUP_PROCESSING, IO_GROUP_PERMISSION, IO_REQUEST_CHANGES, IO_#_BAD_TAGS, IO_#_GOOD_TAGS, IO_#_SCAN_OFF_TAGS, IO_#_SUSPECT_TAGS, SOURCE_TABLE]\n",
       "Index: []"
      ]
     },
     "execution_count": 9,
     "metadata": {},
     "output_type": "execute_result"
    }
   ],
   "source": [
    "import pyodbc\n",
    "import pandas as pd\n",
    "\n",
    "def get_connection(host,user,pwd):\n",
    "    CONN_STR = (\n",
    "    \"DRIVER={AspenTech SQLplus};\"\n",
    "    f\"HOST={host};\"\n",
    "    \"PORT=10014;\"\n",
    "    f\"UID=EUA\\\\{user};\"\n",
    "    f\"PWD={pwd};\"\n",
    "    \"CHARINT=N;\"\n",
    "    \"CHARFLOAT=N;\"\n",
    "    \"CHARTIME=N;\"\n",
    "    \"ansi=True\"\n",
    ")\n",
    "    print(CONN_STR)\n",
    "    conn = pyodbc.connect(CONN_STR)\n",
    "        \n",
    "    return conn\n",
    "    \n",
    "tables = [\"IoGetDef\", \"IoLongTagGetDef\", \"IoLLTagGetDef\"]   # \n",
    "pd.set_option('display.max_columns',None)\n",
    "dfs = []\n",
    "for table in tables:\n",
    "    conn = get_connection(host='BEJEMMS01-SV01',user='SILV5802',pwd='Clara@230525')\n",
    "    my_sql_test = f\"SELECT * FROM {table} WHERE 1=0\"\n",
    "    data = pd.read_sql_query(my_sql_test,conn)\n",
    "    data[\"SOURCE_TABLE\"] = table\n",
    "    dfs.append(data)\n",
    "\n",
    "    \n",
    "\n",
    "\n",
    "data"
   ]
  },
  {
   "cell_type": "code",
   "execution_count": 8,
   "id": "ac646896",
   "metadata": {},
   "outputs": [
    {
     "data": {
      "text/plain": [
       "[Empty DataFrame\n",
       " Columns: [IO_#TAGS, NAME, DESCRIPTION, IO_MESSAGE_SW, IO_ACTIVATE?, IO_ACTIVATION_COS, IO_RECORD_PROCESSING, IO_MAIN_TASK, IO_DEVICE_UNIT, IO_GROUP, IO_PRIORITY, IO_DEFAULT_DATA_TYPE, IO_ASYNC?, IO_TIMEOUT_VALUE, IO_FREQUENCY, IO_LAST_UPDATE, IO_LAST_STATUS, IO_LAST_STATUS_DESC, IO_GROUP_PROCESSING, IO_GROUP_PERMISSION, IO_REQUEST_CHANGES, IO_#_BAD_TAGS, IO_#_GOOD_TAGS, IO_#_SCAN_OFF_TAGS, IO_#_SUSPECT_TAGS, table name]\n",
       " Index: [],\n",
       " Empty DataFrame\n",
       " Columns: [IO_#TAGS, NAME, DESCRIPTION, IO_MESSAGE_SW, IO_ACTIVATE?, IO_ACTIVATION_COS, IO_RECORD_PROCESSING, IO_MAIN_TASK, IO_DEVICE_UNIT, IO_GROUP, IO_PRIORITY, IO_DEFAULT_DATA_TYPE, IO_ASYNC?, IO_TIMEOUT_VALUE, IO_FREQUENCY, IO_LAST_UPDATE, IO_LAST_STATUS, IO_LAST_STATUS_DESC, IO_GROUP_PROCESSING, IO_GROUP_PERMISSION, IO_REQUEST_CHANGES, IO_HIST_RECOVERY, IO_HIST_TIMEOUT, IO_HIST_GAP_INTERVAL, IO_HIST_LAST_UPDATE, IO_HIST_LAST_STATUS, IO_HIST_STATUS_DESC, IO_HIST_PRIORITY, IO_#_BAD_TAGS, IO_#_GOOD_TAGS, IO_#_SCAN_OFF_TAGS, IO_#_SUSPECT_TAGS, table name]\n",
       " Index: [],\n",
       " Empty DataFrame\n",
       " Columns: [IO_#TAGS, NAME, DESCRIPTION, IO_MESSAGE_SW, IO_ACTIVATE?, IO_ACTIVATION_COS, IO_RECORD_PROCESSING, IO_MAIN_TASK, IO_DEVICE_UNIT, IO_GROUP, IO_PRIORITY, IO_DEFAULT_DATA_TYPE, IO_ASYNC?, IO_TIMEOUT_VALUE, IO_FREQUENCY, IO_LAST_UPDATE, IO_LAST_STATUS, IO_LAST_STATUS_DESC, IO_GROUP_PROCESSING, IO_GROUP_PERMISSION, IO_REQUEST_CHANGES, IO_#_BAD_TAGS, IO_#_GOOD_TAGS, IO_#_SCAN_OFF_TAGS, IO_#_SUSPECT_TAGS, table name]\n",
       " Index: []]"
      ]
     },
     "execution_count": 8,
     "metadata": {},
     "output_type": "execute_result"
    }
   ],
   "source": [
    "dfs"
   ]
  },
  {
   "cell_type": "code",
   "execution_count": 2,
   "id": "5e8a5eae",
   "metadata": {},
   "outputs": [
    {
     "name": "stdout",
     "output_type": "stream",
     "text": [
      "DRIVER={AspenTech SQLplus};HOST=bgdevms01-sv01;PORT=10014;UID=EUA\\SILV5802;PWD=Clara@230525;CHARINT=N;CHARFLOAT=N;CHARTIME=N;ansi=True\n",
      "SELECT NAME, OCCNUM, IO_TAGNAME, IO_RECORD_PROCESSING, \"IO_ASYNC?\", IO_TIMEOUT_VALUE, IO_FREQUENCY, IO_DATA_TYPE, \"IO_VALUE_RECORD&&FLD\" FROM IoGetDef\n"
     ]
    },
    {
     "name": "stderr",
     "output_type": "stream",
     "text": [
      "C:\\Users\\silv5802\\AppData\\Local\\Temp\\ipykernel_25084\\1548650095.py:50: UserWarning: pandas only supports SQLAlchemy connectable (engine/connection) or database string URI or sqlite3 DBAPI2 connection. Other DBAPI2 objects are not tested. Please consider using SQLAlchemy.\n",
      "  df = pd.read_sql(query,conn)\n"
     ]
    },
    {
     "name": "stdout",
     "output_type": "stream",
     "text": [
      "IoGetDef: 12469 lines exported.\n",
      "SELECT NAME, OCCNUM, IO_TAGNAME, IO_RECORD_PROCESSING, \"IO_ASYNC?\", IO_TIMEOUT_VALUE, IO_FREQUENCY, IO_DATA_TYPE, \"IO_VALUE_RECORD&&FLD\" FROM IoLongTagGetDef\n"
     ]
    },
    {
     "name": "stderr",
     "output_type": "stream",
     "text": [
      "C:\\Users\\silv5802\\AppData\\Local\\Temp\\ipykernel_25084\\1548650095.py:50: UserWarning: pandas only supports SQLAlchemy connectable (engine/connection) or database string URI or sqlite3 DBAPI2 connection. Other DBAPI2 objects are not tested. Please consider using SQLAlchemy.\n",
      "  df = pd.read_sql(query,conn)\n"
     ]
    },
    {
     "name": "stdout",
     "output_type": "stream",
     "text": [
      "IoLongTagGetDef: 87 lines exported.\n",
      "SELECT NAME, OCCNUM, IO_TAGNAME, IO_RECORD_PROCESSING, \"IO_ASYNC?\", IO_TIMEOUT_VALUE, IO_FREQUENCY, IO_DATA_TYPE, \"IO_VALUE_RECORD&&FLD\" FROM IoLLTagGetDef\n"
     ]
    },
    {
     "name": "stderr",
     "output_type": "stream",
     "text": [
      "C:\\Users\\silv5802\\AppData\\Local\\Temp\\ipykernel_25084\\1548650095.py:50: UserWarning: pandas only supports SQLAlchemy connectable (engine/connection) or database string URI or sqlite3 DBAPI2 connection. Other DBAPI2 objects are not tested. Please consider using SQLAlchemy.\n",
      "  df = pd.read_sql(query,conn)\n"
     ]
    },
    {
     "name": "stdout",
     "output_type": "stream",
     "text": [
      "IoLLTagGetDef: 58 lines exported.\n"
     ]
    }
   ],
   "source": [
    "import pyodbc\n",
    "import pandas as pd\n",
    "\n",
    "CIMIO_COLS = [\n",
    "    \"CIMIO_Definition\",\n",
    "    \"CIMIO_Name\",\n",
    "    \"CIMIO_IO_RECORD_PROCESSING\",\n",
    "    \"CIM_IO_ASYNC\",\n",
    "    \"CIMIO_IO_TIMEOUT_VALUE\",\n",
    "    \"CIMIO_IO_FREQUENCY\",\n",
    "    \"CIMIO_TAG_IO_DATA_TYPE\",\n",
    "    \"CIMIO_TAG_IO_VALUE_RECORD\"\n",
    "]    \n",
    "\n",
    "CIMIO_TABLES = [\n",
    "    \"IoGetDef\", \"IoLongTagGetDef\", \"IoLLTagGetDef\"\n",
    "]  \n",
    "\n",
    "def get_connection(host,user,pwd):\n",
    "    CONN_STR = (\n",
    "    \"DRIVER={AspenTech SQLplus};\"\n",
    "    f\"HOST={host};\"\n",
    "    \"PORT=10014;\"\n",
    "    f\"UID=EUA\\\\{user};\"\n",
    "    f\"PWD={pwd};\"\n",
    "    \"CHARINT=N;\"\n",
    "    \"CHARFLOAT=N;\"\n",
    "    \"CHARTIME=N;\"\n",
    "    \"ansi=True\"\n",
    ")\n",
    "    print(CONN_STR)\n",
    "    conn = pyodbc.connect(CONN_STR)\n",
    "        \n",
    "    return conn\n",
    "\n",
    "def fetch_cimio():\n",
    "    dfs = []\n",
    "    with get_connection(host='bgdevms01-sv01',user='SILV5802',pwd='Clara@230525') as conn:\n",
    "        cursor = conn.cursor()\n",
    "        for table in CIMIO_TABLES:\n",
    "            try:\n",
    "                cols = [row.column_name.upper() for row in cursor.columns(table=table)]\n",
    "                fields = [\"NAME\",\"OCCNUM\",\"IO_TAGNAME\",\"IO_RECORD_PROCESSING\",'\"IO_ASYNC?\"',\"IO_TIMEOUT_VALUE\",\"IO_FREQUENCY\",\"IO_DATA_TYPE\",'\"IO_VALUE_RECORD&&FLD\"']\n",
    "            \n",
    "                query = f\"SELECT {', '.join(fields)} FROM {table}\"\n",
    "                \n",
    "                print(query)\n",
    "            \n",
    "                \n",
    "                df = pd.read_sql(query,conn)\n",
    "                # TODO: Check this part (I haven't review the code below and just excluded it from the original script)\n",
    "                # if \"IO_RECORD_PROCESSING\" in df.columns:\n",
    "                #     df[\"IO_RECORD_PROCESSING\"] = df[\"IO_RECORD_PROCESSING\"].apply(on_off_to_binary)\n",
    "                df[\"SOURCE_TABLE\"] = table\n",
    "                dfs.append(df)\n",
    "                print(f\"{table}: {len(df)} lines exported.\")\n",
    "    \n",
    "            except Exception as e:\n",
    "                print(f\"{table}: there is no data here.\")\n",
    "    return pd.concat(dfs,ignore_index=True) if dfs else pd.DataFrame()\n",
    "\n",
    "\n",
    "data_tocheck = fetch_cimio() "
   ]
  },
  {
   "cell_type": "code",
   "execution_count": 3,
   "id": "9f3bba53",
   "metadata": {},
   "outputs": [
    {
     "data": {
      "text/html": [
       "<div>\n",
       "<style scoped>\n",
       "    .dataframe tbody tr th:only-of-type {\n",
       "        vertical-align: middle;\n",
       "    }\n",
       "\n",
       "    .dataframe tbody tr th {\n",
       "        vertical-align: top;\n",
       "    }\n",
       "\n",
       "    .dataframe thead th {\n",
       "        text-align: right;\n",
       "    }\n",
       "</style>\n",
       "<table border=\"1\" class=\"dataframe\">\n",
       "  <thead>\n",
       "    <tr style=\"text-align: right;\">\n",
       "      <th></th>\n",
       "      <th>NAME</th>\n",
       "      <th>OCCNUM</th>\n",
       "      <th>IO_TAGNAME</th>\n",
       "      <th>IO_RECORD_PROCESSING</th>\n",
       "      <th>IO_ASYNC?</th>\n",
       "      <th>IO_TIMEOUT_VALUE</th>\n",
       "      <th>IO_FREQUENCY</th>\n",
       "      <th>IO_DATA_TYPE</th>\n",
       "      <th>IO_VALUE_RECORD&amp;FLD</th>\n",
       "      <th>SOURCE_TABLE</th>\n",
       "    </tr>\n",
       "  </thead>\n",
       "  <tbody>\n",
       "    <tr>\n",
       "      <th>0</th>\n",
       "      <td>xread60a</td>\n",
       "      <td>1</td>\n",
       "      <td>2TC3781.PV</td>\n",
       "      <td>1</td>\n",
       "      <td>1</td>\n",
       "      <td>1200</td>\n",
       "      <td>600</td>\n",
       "      <td>0</td>\n",
       "      <td>2TC3781.PV IP_INPUT_VALUE</td>\n",
       "      <td>IoGetDef</td>\n",
       "    </tr>\n",
       "    <tr>\n",
       "      <th>1</th>\n",
       "      <td>xread60a</td>\n",
       "      <td>2</td>\n",
       "      <td>LID7B01A.PV</td>\n",
       "      <td>1</td>\n",
       "      <td>1</td>\n",
       "      <td>1200</td>\n",
       "      <td>600</td>\n",
       "      <td>0</td>\n",
       "      <td>LID7B01A.PV IP_INPUT_VALUE</td>\n",
       "      <td>IoGetDef</td>\n",
       "    </tr>\n",
       "    <tr>\n",
       "      <th>2</th>\n",
       "      <td>xread60a</td>\n",
       "      <td>3</td>\n",
       "      <td>2IFT0006.PVFL</td>\n",
       "      <td>1</td>\n",
       "      <td>1</td>\n",
       "      <td>1200</td>\n",
       "      <td>600</td>\n",
       "      <td>0</td>\n",
       "      <td>2IFT0006.PVFL IP_INPUT_VALUE</td>\n",
       "      <td>IoGetDef</td>\n",
       "    </tr>\n",
       "    <tr>\n",
       "      <th>3</th>\n",
       "      <td>xread60a</td>\n",
       "      <td>4</td>\n",
       "      <td>2IFT0005.PVFL</td>\n",
       "      <td>1</td>\n",
       "      <td>1</td>\n",
       "      <td>1200</td>\n",
       "      <td>600</td>\n",
       "      <td>0</td>\n",
       "      <td>2IFT0005.PVFL IP_INPUT_VALUE</td>\n",
       "      <td>IoGetDef</td>\n",
       "    </tr>\n",
       "    <tr>\n",
       "      <th>4</th>\n",
       "      <td>xread60a</td>\n",
       "      <td>5</td>\n",
       "      <td>2IFT0002.PVFL</td>\n",
       "      <td>1</td>\n",
       "      <td>1</td>\n",
       "      <td>1200</td>\n",
       "      <td>600</td>\n",
       "      <td>0</td>\n",
       "      <td>2IFT0002.PVFL IP_INPUT_VALUE</td>\n",
       "      <td>IoGetDef</td>\n",
       "    </tr>\n",
       "  </tbody>\n",
       "</table>\n",
       "</div>"
      ],
      "text/plain": [
       "       NAME  OCCNUM     IO_TAGNAME  IO_RECORD_PROCESSING  IO_ASYNC?  \\\n",
       "0  xread60a       1     2TC3781.PV                     1          1   \n",
       "1  xread60a       2    LID7B01A.PV                     1          1   \n",
       "2  xread60a       3  2IFT0006.PVFL                     1          1   \n",
       "3  xread60a       4  2IFT0005.PVFL                     1          1   \n",
       "4  xread60a       5  2IFT0002.PVFL                     1          1   \n",
       "\n",
       "   IO_TIMEOUT_VALUE  IO_FREQUENCY  IO_DATA_TYPE           IO_VALUE_RECORD&FLD  \\\n",
       "0              1200           600             0     2TC3781.PV IP_INPUT_VALUE   \n",
       "1              1200           600             0    LID7B01A.PV IP_INPUT_VALUE   \n",
       "2              1200           600             0  2IFT0006.PVFL IP_INPUT_VALUE   \n",
       "3              1200           600             0  2IFT0005.PVFL IP_INPUT_VALUE   \n",
       "4              1200           600             0  2IFT0002.PVFL IP_INPUT_VALUE   \n",
       "\n",
       "  SOURCE_TABLE  \n",
       "0     IoGetDef  \n",
       "1     IoGetDef  \n",
       "2     IoGetDef  \n",
       "3     IoGetDef  \n",
       "4     IoGetDef  "
      ]
     },
     "execution_count": 3,
     "metadata": {},
     "output_type": "execute_result"
    }
   ],
   "source": [
    "data_tocheck[:5]"
   ]
  },
  {
   "cell_type": "code",
   "execution_count": null,
   "id": "e7d90e08",
   "metadata": {},
   "outputs": [],
   "source": [
    "def search_for_cimio(tagname: str, cimio_df: pd.DataFrame) -> pd.Series:\n",
    "# ```\n",
    "# # Define a função `search_for_cimio` que recebe um nome de tag (`tagname`) e um DataFrame do pandas (`cimio_df`). Ela retorna uma Series do pandas.\n",
    "# ```\n",
    "\n",
    "# ```python\n",
    "    if cimio_df.empty or 'IO_VALUE_RECORD&FLD' not in cimio_df.columns:\n",
    "        return pd.Series({col: \"\" for col in CIMIO_COLS})\n",
    "# ```\n",
    "# Se o DataFrame está vazio **ou** não possui a coluna `'IO_VALUE_RECORD&FLD'`, retorna uma Series vazia (com todas as colunas de `CIMIO_COLS` preenchidas com string vazia).\n",
    "# ```\n",
    "\n",
    "# ```python\n",
    "    tagname_norm = str(tagname).strip().upper() + \" \"\n",
    "# ```\n",
    "# Normaliza o nome da tag: transforma em string, remove espaços extras, coloca em maiúsculo e adiciona um espaço ao final.\n",
    "# ```\n",
    "\n",
    "# ```python\n",
    "    cimio_norm = cimio_df[\"IO_VALUE_RECORD&FLD\"].fillna(\"\").apply(lambda x: str(x).strip().upper())\n",
    "# ```\n",
    "# Normaliza a coluna `'IO_VALUE_RECORD&FLD'` do DataFrame: preenche valores nulos com string vazia, transforma em string, remove espaços extras e coloca em maiúsculo.\n",
    "# ```\n",
    "\n",
    "# ```python\n",
    "    filtro = cimio_norm.str.startswith(tagname_norm)\n",
    "# ```\n",
    "# Cria um filtro booleano: verifica quais linhas da coluna normalizada começam com o nome da tag normalizado.\n",
    "# ```\n",
    "\n",
    "# ```python\n",
    "    match = cimio_df.loc[filtro]\n",
    "# ```\n",
    "# Seleciona as linhas do DataFrame original que correspondem ao filtro.\n",
    "# ```\n",
    "\n",
    "# ```python\n",
    "    if not match.empty:\n",
    "        row = match.iloc[0]\n",
    "        return pd.Series({\n",
    "            \"CIMIO_Definition\": row.get(\"SOURCE_TABLE\", \"\"),\n",
    "            \"CIMIO_Name\": row.get(\"NAME\", \"\"),\n",
    "            \"CIMIO_IO_RECORD_PROCESSING\": row.get(\"IO_RECORD_PROCESSING\", \"\"),\n",
    "            \"CIM_IO_ASYNC\": row.get(\"IO_ASYNC?\", \"\"),\n",
    "            \"CIMIO_IO_TIMEOUT_VALUE\": row.get(\"IO_TIMEOUT_VALUE\", \"\"),\n",
    "            \"CIMIO_IO_FREQUENCY\": row.get(\"IO_FREQUENCY\", \"\"),\n",
    "            \"CIMIO_TAG_IO_DATA_TYPE\": row.get(\"IO_DATA_TYPE\", \"\"),\n",
    "            \"CIMIO_TAG_IO_VALUE_RECORD\": row.get('\"IO_VALUE_RECORD&&FLD\"', \"\"),\n",
    "        })\n",
    "# ```\n",
    "# Se encontrou pelo menos uma linha correspondente, pega a primeira (`iloc[0]`) e retorna uma Series com os valores das colunas desejadas. Se alguma coluna não existir, retorna string vazia para ela.\n",
    "# ```\n",
    "\n",
    "# ```python\n",
    "    return pd.Series({col: \"\" for col in CIMIO_COLS})\n",
    "# ```\n",
    "# Se não encontrou nenhuma linha correspondente, retorna uma Series vazia (com todas as colunas de `CIMIO_COLS` preenchidas com string vazia)."
   ]
  }
 ],
 "metadata": {
  "kernelspec": {
   "display_name": "powerbienv",
   "language": "python",
   "name": "python3"
  },
  "language_info": {
   "codemirror_mode": {
    "name": "ipython",
    "version": 3
   },
   "file_extension": ".py",
   "mimetype": "text/x-python",
   "name": "python",
   "nbconvert_exporter": "python",
   "pygments_lexer": "ipython3",
   "version": "3.11.11"
  }
 },
 "nbformat": 4,
 "nbformat_minor": 5
}
